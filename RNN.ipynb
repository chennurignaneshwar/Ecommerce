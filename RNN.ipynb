{
  "nbformat": 4,
  "nbformat_minor": 0,
  "metadata": {
    "colab": {
      "provenance": [],
      "gpuType": "T4",
      "include_colab_link": true
    },
    "kernelspec": {
      "name": "python3",
      "display_name": "Python 3"
    },
    "language_info": {
      "name": "python"
    },
    "accelerator": "GPU"
  },
  "cells": [
    {
      "cell_type": "markdown",
      "metadata": {
        "id": "view-in-github",
        "colab_type": "text"
      },
      "source": [
        "<a href=\"https://colab.research.google.com/github/chennurignaneshwar/Ecommerce/blob/main/RNN.ipynb\" target=\"_parent\"><img src=\"https://colab.research.google.com/assets/colab-badge.svg\" alt=\"Open In Colab\"/></a>"
      ]
    },
    {
      "cell_type": "code",
      "execution_count": null,
      "metadata": {
        "colab": {
          "base_uri": "https://localhost:8080/"
        },
        "id": "SWsFNlN9OMGD",
        "outputId": "8f246a10-9e1f-4132-ec76-7b297903bd5a"
      },
      "outputs": [
        {
          "output_type": "stream",
          "name": "stdout",
          "text": [
            "Mounted at /content/drive\n"
          ]
        }
      ],
      "source": [
        "from google.colab import drive\n",
        "drive.mount('/content/drive')\n"
      ]
    },
    {
      "cell_type": "code",
      "source": [
        "!pip install pyshark\n"
      ],
      "metadata": {
        "colab": {
          "base_uri": "https://localhost:8080/"
        },
        "id": "EEk_bjvJOV7J",
        "outputId": "2f0fb259-2462-4f77-bd8d-d6ed6f661af8"
      },
      "execution_count": null,
      "outputs": [
        {
          "output_type": "stream",
          "name": "stdout",
          "text": [
            "Collecting pyshark\n",
            "  Downloading pyshark-0.6-py3-none-any.whl.metadata (806 bytes)\n",
            "Requirement already satisfied: lxml in /usr/local/lib/python3.11/dist-packages (from pyshark) (5.3.1)\n",
            "Requirement already satisfied: termcolor in /usr/local/lib/python3.11/dist-packages (from pyshark) (3.0.1)\n",
            "Requirement already satisfied: packaging in /usr/local/lib/python3.11/dist-packages (from pyshark) (24.2)\n",
            "Collecting appdirs (from pyshark)\n",
            "  Downloading appdirs-1.4.4-py2.py3-none-any.whl.metadata (9.0 kB)\n",
            "Downloading pyshark-0.6-py3-none-any.whl (41 kB)\n",
            "\u001b[?25l   \u001b[90m━━━━━━━━━━━━━━━━━━━━━━━━━━━━━━━━━━━━━━━━\u001b[0m \u001b[32m0.0/41.4 kB\u001b[0m \u001b[31m?\u001b[0m eta \u001b[36m-:--:--\u001b[0m\r\u001b[2K   \u001b[90m━━━━━━━━━━━━━━━━━━━━━━━━━━━━━━━━━━━━━━━━\u001b[0m \u001b[32m41.4/41.4 kB\u001b[0m \u001b[31m3.1 MB/s\u001b[0m eta \u001b[36m0:00:00\u001b[0m\n",
            "\u001b[?25hDownloading appdirs-1.4.4-py2.py3-none-any.whl (9.6 kB)\n",
            "Installing collected packages: appdirs, pyshark\n",
            "Successfully installed appdirs-1.4.4 pyshark-0.6\n"
          ]
        }
      ]
    },
    {
      "cell_type": "code",
      "source": [
        "import os\n",
        "\n",
        "pcap_folder = '/content/drive/MyDrive/traffic/'  # <-- change this if needed\n",
        "output_csv_path = '/content/drive/MyDrive/packet_features.csv'\n"
      ],
      "metadata": {
        "id": "b4_oHOC6OhKS"
      },
      "execution_count": null,
      "outputs": []
    },
    {
      "cell_type": "code",
      "source": [
        "!pip install nest_asyncio\n",
        "import nest_asyncio\n",
        "nest_asyncio.apply()\n"
      ],
      "metadata": {
        "colab": {
          "base_uri": "https://localhost:8080/"
        },
        "id": "1j_HZ6v_SkL4",
        "outputId": "864224f3-0388-4d3e-beb3-c6a63790a0dd"
      },
      "execution_count": null,
      "outputs": [
        {
          "output_type": "stream",
          "name": "stdout",
          "text": [
            "Requirement already satisfied: nest_asyncio in /usr/local/lib/python3.11/dist-packages (1.6.0)\n"
          ]
        }
      ]
    },
    {
      "cell_type": "code",
      "source": [
        "!pip install nest_asyncio pyshark\n",
        "import nest_asyncio\n",
        "nest_asyncio.apply()\n",
        "\n",
        "import pyshark\n",
        "import pandas as pd\n",
        "import os\n"
      ],
      "metadata": {
        "colab": {
          "base_uri": "https://localhost:8080/"
        },
        "id": "FbHzZAnJSoHR",
        "outputId": "09b037ba-447c-47ec-a928-b35f4530e922"
      },
      "execution_count": null,
      "outputs": [
        {
          "output_type": "stream",
          "name": "stdout",
          "text": [
            "Requirement already satisfied: nest_asyncio in /usr/local/lib/python3.11/dist-packages (1.6.0)\n",
            "Requirement already satisfied: pyshark in /usr/local/lib/python3.11/dist-packages (0.6)\n",
            "Requirement already satisfied: lxml in /usr/local/lib/python3.11/dist-packages (from pyshark) (5.3.1)\n",
            "Requirement already satisfied: termcolor in /usr/local/lib/python3.11/dist-packages (from pyshark) (3.0.1)\n",
            "Requirement already satisfied: packaging in /usr/local/lib/python3.11/dist-packages (from pyshark) (24.2)\n",
            "Requirement already satisfied: appdirs in /usr/local/lib/python3.11/dist-packages (from pyshark) (1.4.4)\n"
          ]
        }
      ]
    },
    {
      "cell_type": "code",
      "source": [
        "!apt-get update\n",
        "!apt-get install -y tshark\n"
      ],
      "metadata": {
        "colab": {
          "base_uri": "https://localhost:8080/"
        },
        "id": "Zd36f6IWTHZO",
        "outputId": "a22cf2d8-5312-43fc-829f-6d776d09d203"
      },
      "execution_count": null,
      "outputs": [
        {
          "output_type": "stream",
          "name": "stdout",
          "text": [
            "\r0% [Working]\r            \rGet:1 http://security.ubuntu.com/ubuntu jammy-security InRelease [129 kB]\n",
            "\r0% [Connecting to archive.ubuntu.com (91.189.91.81)] [1 InRelease 14.2 kB/129 k\r0% [Connecting to archive.ubuntu.com (91.189.91.81)] [Connected to cloud.r-proj\r                                                                               \rGet:2 https://cloud.r-project.org/bin/linux/ubuntu jammy-cran40/ InRelease [3,632 B]\n",
            "\r0% [Waiting for headers] [Connecting to r2u.stat.illinois.edu (192.17.190.167)]\r                                                                               \rHit:3 https://developer.download.nvidia.com/compute/cuda/repos/ubuntu2204/x86_64  InRelease\n",
            "Get:4 https://ppa.launchpadcontent.net/deadsnakes/ppa/ubuntu jammy InRelease [18.1 kB]\n",
            "Hit:5 http://archive.ubuntu.com/ubuntu jammy InRelease\n",
            "Hit:6 https://ppa.launchpadcontent.net/graphics-drivers/ppa/ubuntu jammy InRelease\n",
            "Hit:7 https://ppa.launchpadcontent.net/ubuntugis/ppa/ubuntu jammy InRelease\n",
            "Get:8 http://archive.ubuntu.com/ubuntu jammy-updates InRelease [128 kB]\n",
            "Get:9 http://security.ubuntu.com/ubuntu jammy-security/main amd64 Packages [2,788 kB]\n",
            "Get:10 http://security.ubuntu.com/ubuntu jammy-security/universe amd64 Packages [1,243 kB]\n",
            "Get:11 https://r2u.stat.illinois.edu/ubuntu jammy InRelease [6,555 B]\n",
            "Hit:12 http://archive.ubuntu.com/ubuntu jammy-backports InRelease\n",
            "Get:13 https://ppa.launchpadcontent.net/deadsnakes/ppa/ubuntu jammy/main amd64 Packages [34.3 kB]\n",
            "Get:14 http://archive.ubuntu.com/ubuntu jammy-updates/main amd64 Packages [3,099 kB]\n",
            "Get:15 https://r2u.stat.illinois.edu/ubuntu jammy/main amd64 Packages [2,690 kB]\n",
            "Get:16 http://archive.ubuntu.com/ubuntu jammy-updates/universe amd64 Packages [1,542 kB]\n",
            "Get:17 https://r2u.stat.illinois.edu/ubuntu jammy/main all Packages [8,833 kB]\n",
            "Fetched 20.5 MB in 3s (7,342 kB/s)\n",
            "Reading package lists... Done\n",
            "W: Skipping acquire of configured file 'main/source/Sources' as repository 'https://r2u.stat.illinois.edu/ubuntu jammy InRelease' does not seem to provide it (sources.list entry misspelt?)\n",
            "Reading package lists... Done\n",
            "Building dependency tree... Done\n",
            "Reading state information... Done\n",
            "The following additional packages will be installed:\n",
            "  libbcg729-0 libc-ares2 liblua5.2-0 libnl-genl-3-200 libpcap0.8 libsbc1\n",
            "  libsmi2ldbl libspandsp2 libspeexdsp1 libwireshark-data libwireshark15\n",
            "  libwiretap12 libwsutil13 wireshark-common\n",
            "Suggested packages:\n",
            "  snmp-mibs-downloader geoipupdate geoip-database geoip-database-extra\n",
            "  libjs-leaflet libjs-leaflet.markercluster wireshark-doc\n",
            "The following NEW packages will be installed:\n",
            "  libbcg729-0 libc-ares2 liblua5.2-0 libnl-genl-3-200 libpcap0.8 libsbc1\n",
            "  libsmi2ldbl libspandsp2 libspeexdsp1 libwireshark-data libwireshark15\n",
            "  libwiretap12 libwsutil13 tshark wireshark-common\n",
            "0 upgraded, 15 newly installed, 0 to remove and 32 not upgraded.\n",
            "Need to get 23.0 MB of archives.\n",
            "After this operation, 120 MB of additional disk space will be used.\n",
            "Get:1 http://archive.ubuntu.com/ubuntu jammy-updates/main amd64 libpcap0.8 amd64 1.10.1-4ubuntu1.22.04.1 [145 kB]\n",
            "Get:2 http://archive.ubuntu.com/ubuntu jammy/universe amd64 libbcg729-0 amd64 1.1.1-2 [32.9 kB]\n",
            "Get:3 http://archive.ubuntu.com/ubuntu jammy/universe amd64 liblua5.2-0 amd64 5.2.4-2 [125 kB]\n",
            "Get:4 http://archive.ubuntu.com/ubuntu jammy/main amd64 libnl-genl-3-200 amd64 3.5.0-0.1 [12.4 kB]\n",
            "Get:5 http://archive.ubuntu.com/ubuntu jammy/universe amd64 libsmi2ldbl amd64 0.4.8+dfsg2-16 [100 kB]\n",
            "Get:6 http://archive.ubuntu.com/ubuntu jammy/universe amd64 libspandsp2 amd64 0.0.6+dfsg-2 [272 kB]\n",
            "Get:7 http://archive.ubuntu.com/ubuntu jammy/main amd64 libspeexdsp1 amd64 1.2~rc1.2-1.1ubuntu3 [42.5 kB]\n",
            "Get:8 http://archive.ubuntu.com/ubuntu jammy/universe amd64 libwireshark-data all 3.6.2-2 [1,647 kB]\n",
            "Get:9 http://archive.ubuntu.com/ubuntu jammy-updates/main amd64 libc-ares2 amd64 1.18.1-1ubuntu0.22.04.3 [45.1 kB]\n",
            "Get:10 http://archive.ubuntu.com/ubuntu jammy/main amd64 libsbc1 amd64 1.5-3build2 [34.4 kB]\n",
            "Get:11 http://archive.ubuntu.com/ubuntu jammy/universe amd64 libwsutil13 amd64 3.6.2-2 [99.2 kB]\n",
            "Get:12 http://archive.ubuntu.com/ubuntu jammy/universe amd64 libwiretap12 amd64 3.6.2-2 [255 kB]\n",
            "Get:13 http://archive.ubuntu.com/ubuntu jammy/universe amd64 libwireshark15 amd64 3.6.2-2 [19.5 MB]\n",
            "Get:14 http://archive.ubuntu.com/ubuntu jammy/universe amd64 wireshark-common amd64 3.6.2-2 [473 kB]\n",
            "Get:15 http://archive.ubuntu.com/ubuntu jammy/universe amd64 tshark amd64 3.6.2-2 [157 kB]\n",
            "Fetched 23.0 MB in 0s (62.3 MB/s)\n",
            "Preconfiguring packages ...\n",
            "Selecting previously unselected package libpcap0.8:amd64.\n",
            "(Reading database ... 126315 files and directories currently installed.)\n",
            "Preparing to unpack .../00-libpcap0.8_1.10.1-4ubuntu1.22.04.1_amd64.deb ...\n",
            "Unpacking libpcap0.8:amd64 (1.10.1-4ubuntu1.22.04.1) ...\n",
            "Selecting previously unselected package libbcg729-0:amd64.\n",
            "Preparing to unpack .../01-libbcg729-0_1.1.1-2_amd64.deb ...\n",
            "Unpacking libbcg729-0:amd64 (1.1.1-2) ...\n",
            "Selecting previously unselected package liblua5.2-0:amd64.\n",
            "Preparing to unpack .../02-liblua5.2-0_5.2.4-2_amd64.deb ...\n",
            "Unpacking liblua5.2-0:amd64 (5.2.4-2) ...\n",
            "Selecting previously unselected package libnl-genl-3-200:amd64.\n",
            "Preparing to unpack .../03-libnl-genl-3-200_3.5.0-0.1_amd64.deb ...\n",
            "Unpacking libnl-genl-3-200:amd64 (3.5.0-0.1) ...\n",
            "Selecting previously unselected package libsmi2ldbl:amd64.\n",
            "Preparing to unpack .../04-libsmi2ldbl_0.4.8+dfsg2-16_amd64.deb ...\n",
            "Unpacking libsmi2ldbl:amd64 (0.4.8+dfsg2-16) ...\n",
            "Selecting previously unselected package libspandsp2:amd64.\n",
            "Preparing to unpack .../05-libspandsp2_0.0.6+dfsg-2_amd64.deb ...\n",
            "Unpacking libspandsp2:amd64 (0.0.6+dfsg-2) ...\n",
            "Selecting previously unselected package libspeexdsp1:amd64.\n",
            "Preparing to unpack .../06-libspeexdsp1_1.2~rc1.2-1.1ubuntu3_amd64.deb ...\n",
            "Unpacking libspeexdsp1:amd64 (1.2~rc1.2-1.1ubuntu3) ...\n",
            "Selecting previously unselected package libwireshark-data.\n",
            "Preparing to unpack .../07-libwireshark-data_3.6.2-2_all.deb ...\n",
            "Unpacking libwireshark-data (3.6.2-2) ...\n",
            "Selecting previously unselected package libc-ares2:amd64.\n",
            "Preparing to unpack .../08-libc-ares2_1.18.1-1ubuntu0.22.04.3_amd64.deb ...\n",
            "Unpacking libc-ares2:amd64 (1.18.1-1ubuntu0.22.04.3) ...\n",
            "Selecting previously unselected package libsbc1:amd64.\n",
            "Preparing to unpack .../09-libsbc1_1.5-3build2_amd64.deb ...\n",
            "Unpacking libsbc1:amd64 (1.5-3build2) ...\n",
            "Selecting previously unselected package libwsutil13:amd64.\n",
            "Preparing to unpack .../10-libwsutil13_3.6.2-2_amd64.deb ...\n",
            "Unpacking libwsutil13:amd64 (3.6.2-2) ...\n",
            "Selecting previously unselected package libwiretap12:amd64.\n",
            "Preparing to unpack .../11-libwiretap12_3.6.2-2_amd64.deb ...\n",
            "Unpacking libwiretap12:amd64 (3.6.2-2) ...\n",
            "Selecting previously unselected package libwireshark15:amd64.\n",
            "Preparing to unpack .../12-libwireshark15_3.6.2-2_amd64.deb ...\n",
            "Unpacking libwireshark15:amd64 (3.6.2-2) ...\n",
            "Selecting previously unselected package wireshark-common.\n",
            "Preparing to unpack .../13-wireshark-common_3.6.2-2_amd64.deb ...\n",
            "Unpacking wireshark-common (3.6.2-2) ...\n",
            "Selecting previously unselected package tshark.\n",
            "Preparing to unpack .../14-tshark_3.6.2-2_amd64.deb ...\n",
            "Unpacking tshark (3.6.2-2) ...\n",
            "Setting up libsbc1:amd64 (1.5-3build2) ...\n",
            "Setting up libbcg729-0:amd64 (1.1.1-2) ...\n",
            "Setting up libc-ares2:amd64 (1.18.1-1ubuntu0.22.04.3) ...\n",
            "Setting up libspandsp2:amd64 (0.0.6+dfsg-2) ...\n",
            "Setting up libsmi2ldbl:amd64 (0.4.8+dfsg2-16) ...\n",
            "Setting up libwsutil13:amd64 (3.6.2-2) ...\n",
            "Setting up libpcap0.8:amd64 (1.10.1-4ubuntu1.22.04.1) ...\n",
            "Setting up libwiretap12:amd64 (3.6.2-2) ...\n",
            "Setting up libwireshark-data (3.6.2-2) ...\n",
            "Setting up liblua5.2-0:amd64 (5.2.4-2) ...\n",
            "Setting up libnl-genl-3-200:amd64 (3.5.0-0.1) ...\n",
            "Setting up libspeexdsp1:amd64 (1.2~rc1.2-1.1ubuntu3) ...\n",
            "Setting up libwireshark15:amd64 (3.6.2-2) ...\n",
            "Setting up wireshark-common (3.6.2-2) ...\n",
            "Setting up tshark (3.6.2-2) ...\n",
            "Processing triggers for hicolor-icon-theme (0.17-2) ...\n",
            "Processing triggers for libc-bin (2.35-0ubuntu3.8) ...\n",
            "/sbin/ldconfig.real: /usr/local/lib/libur_adapter_opencl.so.0 is not a symbolic link\n",
            "\n",
            "/sbin/ldconfig.real: /usr/local/lib/libur_loader.so.0 is not a symbolic link\n",
            "\n",
            "/sbin/ldconfig.real: /usr/local/lib/libhwloc.so.15 is not a symbolic link\n",
            "\n",
            "/sbin/ldconfig.real: /usr/local/lib/libtbb.so.12 is not a symbolic link\n",
            "\n",
            "/sbin/ldconfig.real: /usr/local/lib/libtcm.so.1 is not a symbolic link\n",
            "\n",
            "/sbin/ldconfig.real: /usr/local/lib/libtbbbind_2_0.so.3 is not a symbolic link\n",
            "\n",
            "/sbin/ldconfig.real: /usr/local/lib/libtcm_debug.so.1 is not a symbolic link\n",
            "\n",
            "/sbin/ldconfig.real: /usr/local/lib/libtbbbind.so.3 is not a symbolic link\n",
            "\n",
            "/sbin/ldconfig.real: /usr/local/lib/libtbbbind_2_5.so.3 is not a symbolic link\n",
            "\n",
            "/sbin/ldconfig.real: /usr/local/lib/libtbbmalloc_proxy.so.2 is not a symbolic link\n",
            "\n",
            "/sbin/ldconfig.real: /usr/local/lib/libtbbmalloc.so.2 is not a symbolic link\n",
            "\n",
            "/sbin/ldconfig.real: /usr/local/lib/libumf.so.0 is not a symbolic link\n",
            "\n",
            "/sbin/ldconfig.real: /usr/local/lib/libur_adapter_level_zero.so.0 is not a symbolic link\n",
            "\n",
            "Processing triggers for man-db (2.10.2-1) ...\n",
            "Processing triggers for shared-mime-info (2.1-2) ...\n"
          ]
        }
      ]
    },
    {
      "cell_type": "code",
      "source": [
        "!which tshark\n",
        "!tshark -v\n"
      ],
      "metadata": {
        "colab": {
          "base_uri": "https://localhost:8080/"
        },
        "id": "5shyEy3-TOp2",
        "outputId": "2da2aa01-f6fa-4154-ffd0-2ab4bbc4ff95"
      },
      "execution_count": null,
      "outputs": [
        {
          "output_type": "stream",
          "name": "stdout",
          "text": [
            "/usr/bin/tshark\n",
            "Running as user \"root\" and group \"root\". This could be dangerous.\n",
            "TShark (Wireshark) 3.6.2 (Git v3.6.2 packaged as 3.6.2-2)\n",
            "\n",
            "Copyright 1998-2022 Gerald Combs <gerald@wireshark.org> and contributors.\n",
            "License GPLv2+: GNU GPL version 2 or later <https://www.gnu.org/licenses/gpl-2.0.html>\n",
            "This is free software; see the source for copying conditions. There is NO\n",
            "warranty; not even for MERCHANTABILITY or FITNESS FOR A PARTICULAR PURPOSE.\n",
            "\n",
            "Compiled (64-bit) using GCC 11.2.0, with libpcap, with POSIX capabilities\n",
            "(Linux), with libnl 3, with GLib 2.71.2, with zlib 1.2.11, with Lua 5.2.4, with\n",
            "GnuTLS 3.7.3 and PKCS #11 support, with Gcrypt 1.9.4, with MIT Kerberos, with\n",
            "MaxMind DB resolver, with nghttp2 1.43.0, with brotli, with LZ4, with Zstandard,\n",
            "with Snappy, with libxml2 2.9.12, with libsmi 0.4.8.\n",
            "\n",
            "Running on Linux 6.1.85+, with Intel(R) Xeon(R) CPU @ 2.00GHz (with SSE4.2),\n",
            "with 12978 MB of physical memory, with GLib 2.72.4, with zlib 1.2.11, with\n",
            "libpcap 1.10.1 (with TPACKET_V3), with c-ares 1.18.1, with GnuTLS 3.7.3, with\n",
            "Gcrypt 1.9.4, with nghttp2 1.43.0, with brotli 1.0.9, with LZ4 1.9.3, with\n",
            "Zstandard 1.4.8, with libsmi 0.4.8, with LC_TYPE=en_US.UTF-8, binary plugins\n",
            "supported (0 loaded).\n"
          ]
        }
      ]
    },
    {
      "cell_type": "code",
      "source": [
        "#✅ Step 2: Packet level future extraction\n",
        "import pyshark\n",
        "import pandas as pd\n",
        "import os\n",
        "\n",
        "def extract_features(pcap_path, max_packets=1000):\n",
        "    cap = pyshark.FileCapture(pcap_path, only_summaries=False)\n",
        "    data = []\n",
        "\n",
        "    for i, packet in enumerate(cap):\n",
        "        try:\n",
        "            row = {\n",
        "                'No': i,\n",
        "                'Time': float(packet.sniff_time.timestamp()),\n",
        "                'Source': packet.ip.src if hasattr(packet, 'ip') else None,\n",
        "                'Destination': packet.ip.dst if hasattr(packet, 'ip') else None,\n",
        "                'Protocol': packet.highest_layer,\n",
        "                'Length': int(packet.length),\n",
        "                'Info': str(packet.info) if hasattr(packet, 'info') else ''\n",
        "            }\n",
        "            if hasattr(packet, 'tcp'):\n",
        "                row['SrcPort'] = packet.tcp.srcport\n",
        "                row['DstPort'] = packet.tcp.dstport\n",
        "                row['Flags'] = packet.tcp.flags\n",
        "            elif hasattr(packet, 'udp'):\n",
        "                row['SrcPort'] = packet.udp.srcport\n",
        "                row['DstPort'] = packet.udp.dstport\n",
        "                row['Flags'] = None\n",
        "            else:\n",
        "                row['SrcPort'] = None\n",
        "                row['DstPort'] = None\n",
        "                row['Flags'] = None\n",
        "\n",
        "            data.append(row)\n",
        "        except Exception as e:\n",
        "            print(f\"Error processing packet {i}: {e}\")\n",
        "\n",
        "        if i >= max_packets:\n",
        "            break\n",
        "\n",
        "    return pd.DataFrame(data)\n",
        "\n",
        "# 🔄 Process all PCAP files and combine\n",
        "all_data = []\n",
        "for file in os.listdir(pcap_folder):\n",
        "    if file.endswith('.pcap') or file.endswith('.pcapng'):\n",
        "        print(f\"Processing: {file}\")\n",
        "        df = extract_features(os.path.join(pcap_folder, file), max_packets=1000)\n",
        "        df['Filename'] = file\n",
        "        all_data.append(df)\n",
        "\n",
        "# 🧾 Combine and save\n",
        "packet_df = pd.concat(all_data, ignore_index=True)\n",
        "packet_df.to_csv(output_csv_path, index=False)\n",
        "print(\"✅ Packet features saved to:\", output_csv_path)\n"
      ],
      "metadata": {
        "colab": {
          "base_uri": "https://localhost:8080/"
        },
        "id": "_ALsSvp7SJPx",
        "outputId": "ab8896a3-4bca-43b3-9622-1f78fcabbefa"
      },
      "execution_count": null,
      "outputs": [
        {
          "output_type": "stream",
          "name": "stdout",
          "text": [
            "Processing: IoT_Dataset_TCP_DDoS__00059_20180604173534.pcap\n",
            "Processing: IoT_Dataset_TCP_DDoS__00060_20180604173550.pcap\n"
          ]
        },
        {
          "output_type": "stream",
          "name": "stderr",
          "text": [
            "/usr/local/lib/python3.11/dist-packages/pyshark/packet/fields.py:87: RuntimeWarning: coroutine 'Capture._get_tshark_process' was never awaited\n",
            "  if hasattr(main_field, 'get_default_value'):\n",
            "RuntimeWarning: Enable tracemalloc to get the object allocation traceback\n"
          ]
        },
        {
          "output_type": "stream",
          "name": "stdout",
          "text": [
            "Processing: IoT_Dataset_TCP_DDoS__00026_20180604171349.pcap\n",
            "Processing: IoT_Dataset_TCP_DDoS__00032_20180604171656.pcap\n",
            "Processing: IoT_Dataset_TCP_DDoS__00030_20180604171605.pcap\n",
            "Processing: IoT_Dataset_TCP_DDoS__00063_20180604173656.pcap\n",
            "Processing: IoT_Dataset_TCP_DDoS__00018_20180604171001.pcap\n",
            "Processing: IoT_Dataset_TCP_DDoS__00037_20180604171901.pcap\n",
            "Processing: IoT_Dataset_TCP_DDoS__00062_20180604173639.pcap\n",
            "Processing: IoT_Dataset_TCP_DDoS__00019_20180604171030.pcap\n",
            "Processing: IoT_Dataset_UDP_DDoS__00009_20180604180420.pcap\n",
            "Processing: IoT_Dataset_TCP_DDoS__00041_20180604172047.pcap\n",
            "Processing: IoT_Dataset_TCP_DDoS__00046_20180604172255.pcap\n",
            "Processing: IoT_Dataset_TCP_DDoS__00031_20180604171630.pcap\n",
            "Processing: IoT_Dataset_TCP_DDoS__00047_20180604172318.pcap\n",
            "Processing: IoT_Dataset_TCP_DDoS__00072_20180604174023.pcap\n",
            "Processing: IoT_Dataset_TCP_DDoS__00044_20180604172205.pcap\n",
            "Processing: IoT_Dataset_TCP_DDoS__00039_20180604171958.pcap\n",
            "Processing: IoT_Dataset_TCP_DDoS__00038_20180604171923.pcap\n",
            "Processing: IoT_Dataset_TCP_DDoS__00067_20180604173832.pcap\n",
            "Processing: IoT_Dataset_UDP_DDoS__00007_20180604180341.pcap\n",
            "Processing: IoT_Dataset_TCP_DDoS__00022_20180604171151.pcap\n",
            "Processing: IoT_Dataset_TCP_DDoS__00025_20180604171328.pcap\n",
            "Processing: IoT_Dataset_TCP_DDoS__00042_20180604172111.pcap\n",
            "Processing: IoT_Dataset_TCP_DDoS__00035_20180604171808.pcap\n",
            "Processing: IoT_Dataset_TCP_DDoS__00036_20180604171833.pcap\n",
            "Processing: IoT_Dataset_TCP_DDoS__00034_20180604171747.pcap\n",
            "Processing: IoT_Dataset_TCP_DDoS__00065_20180604173745.pcap\n",
            "Processing: IoT_Dataset_UDP_DDoS__00005_20180604180303.pcap\n",
            "Processing: IoT_Dataset_UDP_DDoS__00001_20180604180103.pcap\n",
            "Processing: traffic.pcap\n",
            "Processing: IoT_Dataset_UDP_DDoS__00006_20180604180323.pcap\n",
            "Processing: IoT_Dataset_TCP_DDoS__00024_20180604171248.pcap\n",
            "Processing: IoT_Dataset_TCP_DDoS__00021_20180604171128.pcap\n",
            "Processing: IoT_Dataset_TCP_DDoS__00033_20180604171719.pcap\n",
            "Processing: IoT_Dataset_TCP_DDoS__00070_20180604173939.pcap\n",
            "Processing: 1.pcap\n",
            "Processing: IoT_Dataset_TCP_DDoS__00023_20180604171227.pcap\n",
            "Processing: IoT_Dataset_TCP_DDoS__00020_20180604171059.pcap\n",
            "Processing: IoT_Dataset_UDP_DDoS__00014_20180604180550.pcap\n",
            "Processing: IoT_Dataset_TCP_DDoS__00029_20180604171546.pcap\n",
            "Processing: IoT_Dataset_UDP_DDoS__00002_20180604180217.pcap\n",
            "Processing: IoT_Dataset_UDP_DDoS__00004_20180604180247.pcap\n",
            "Processing: IoT_Dataset_UDP_DDoS__00013_20180604180534.pcap\n",
            "Processing: IoT_Dataset_UDP_DDoS__00016_20180604180630.pcap\n",
            "Processing: IoT_Dataset_UDP_DDoS__00008_20180604180357.pcap\n",
            "Processing: IoT_Dataset_UDP_DDoS__00012_20180604180516.pcap\n",
            "Processing: IoT_Dataset_TCP_DDoS__00068_20180604173853.pcap\n",
            "Processing: p.pcap\n",
            "Processing: IoT_Dataset_UDP_DDoS__00003_20180604180232.pcap\n",
            "Processing: IoT_Dataset_UDP_DDoS__00011_20180604180454.pcap\n",
            "Processing: IoT_Dataset_UDP_DDoS__00015_20180604180613.pcap\n",
            "✅ Packet features saved to: /content/drive/MyDrive/packet_features.csv\n"
          ]
        }
      ]
    },
    {
      "cell_type": "code",
      "source": [
        "#CONVERT PACKET DATA TO TIME SERIES FORMAT\n",
        "import pandas as pd\n",
        "import numpy as np\n",
        "from sklearn.preprocessing import LabelEncoder, StandardScaler\n",
        "\n",
        "# Load CSV\n",
        "df = pd.read_csv('/content/drive/MyDrive/packet_features.csv')\n",
        "\n",
        "# Define columns\n",
        "categorical_cols = ['Source', 'Destination', 'Protocol', 'Flags']\n",
        "numeric_cols = ['Time', 'Length', 'SrcPort', 'DstPort']\n",
        "\n",
        "# Fill missing values correctly\n",
        "for col in categorical_cols:\n",
        "    df[col] = df[col].fillna('missing').astype(str)\n",
        "\n",
        "for col in numeric_cols:\n",
        "    df[col] = df[col].fillna(0.0).astype(float)\n",
        "\n",
        "# Encode categorical features\n",
        "label_encoders = {}\n",
        "for col in categorical_cols:\n",
        "    le = LabelEncoder()\n",
        "    df[col] = le.fit_transform(df[col])\n",
        "    label_encoders[col] = le\n",
        "\n",
        "# Save filename column BEFORE dropping\n",
        "file_col = df['Filename'] if 'Filename' in df.columns else None\n",
        "\n",
        "# Drop extra columns\n",
        "if 'Info' in df.columns:\n",
        "    df.drop(['Info'], axis=1, inplace=True)\n",
        "if 'Filename' in df.columns:\n",
        "    df.drop(['Filename'], axis=1, inplace=True)\n",
        "\n",
        "# Scale numeric features\n",
        "scaler = StandardScaler()\n",
        "df[numeric_cols] = scaler.fit_transform(df[numeric_cols])\n",
        "\n",
        "# Convert to sequences\n",
        "SEQUENCE_LENGTH = 50\n",
        "sequences = []\n",
        "labels = []\n",
        "\n",
        "for start in range(0, len(df) - SEQUENCE_LENGTH, SEQUENCE_LENGTH):\n",
        "    end = start + SEQUENCE_LENGTH\n",
        "    chunk = df.iloc[start:end].values\n",
        "    sequences.append(chunk)\n",
        "\n",
        "    # Label based on filename\n",
        "    if file_col is not None:\n",
        "        current_filename = file_col.iloc[start]\n",
        "        if any(keyword in current_filename for keyword in ['DDoS', 'DoS', 'PortScan']):\n",
        "            labels.append(1)  # Attack\n",
        "        else:\n",
        "            labels.append(0)  # Normal\n",
        "    else:\n",
        "        labels.append(0)  # Default\n",
        "\n",
        "X = np.array(sequences)\n",
        "y = np.array(labels)\n",
        "\n",
        "print(\"✅ Time-series shape:\", X.shape)\n",
        "print(\"✅ Label distribution:\", np.unique(y, return_counts=True))\n"
      ],
      "metadata": {
        "colab": {
          "base_uri": "https://localhost:8080/"
        },
        "id": "OQ_hxlL7TMIb",
        "outputId": "de96ad97-cafc-471e-cf21-08715758e6e7"
      },
      "execution_count": null,
      "outputs": [
        {
          "output_type": "stream",
          "name": "stdout",
          "text": [
            "✅ Time-series shape: (1041, 50, 9)\n",
            "✅ Label distribution: (array([0, 1]), array([ 60, 981]))\n"
          ]
        }
      ]
    },
    {
      "cell_type": "code",
      "source": [
        "#✅ Step 4: Train/Test Split\n",
        "from sklearn.model_selection import train_test_split\n",
        "\n",
        "X_train, X_test, y_train, y_test = train_test_split(\n",
        "    X, y, test_size=0.2, stratify=y, random_state=42\n",
        ")\n",
        "\n",
        "print(\"X_train:\", X_train.shape)\n",
        "print(\"X_test:\", X_test.shape)\n",
        "print(\"y_train distribution:\", np.unique(y_train, return_counts=True))\n",
        "print(\"y_test distribution:\", np.unique(y_test, return_counts=True))\n"
      ],
      "metadata": {
        "colab": {
          "base_uri": "https://localhost:8080/"
        },
        "id": "NB9oi2lhSPI0",
        "outputId": "de594e7c-f524-42f7-f830-dfc8826dd28e"
      },
      "execution_count": null,
      "outputs": [
        {
          "output_type": "stream",
          "name": "stdout",
          "text": [
            "X_train: (832, 50, 9)\n",
            "X_test: (209, 50, 9)\n",
            "y_train distribution: (array([0, 1]), array([ 48, 784]))\n",
            "y_test distribution: (array([0, 1]), array([ 12, 197]))\n"
          ]
        }
      ]
    },
    {
      "cell_type": "code",
      "source": [
        "#✅ Step 5: Build the LSTM Model to classify the binary labels\n",
        "import tensorflow as tf\n",
        "from tensorflow.keras.models import Sequential\n",
        "from tensorflow.keras.layers import LSTM, Dense, Dropout\n",
        "\n",
        "model = Sequential([\n",
        "    LSTM(64, input_shape=(X_train.shape[1], X_train.shape[2]), return_sequences=False),\n",
        "    Dropout(0.3),\n",
        "    Dense(32, activation='relu'),\n",
        "    Dropout(0.3),\n",
        "    Dense(1, activation='sigmoid')  # Binary classification\n",
        "])\n",
        "\n",
        "model.compile(optimizer='adam', loss='binary_crossentropy', metrics=['accuracy'])\n",
        "\n",
        "model.summary()\n"
      ],
      "metadata": {
        "colab": {
          "base_uri": "https://localhost:8080/",
          "height": 344
        },
        "id": "Z0aX-cVQXb3j",
        "outputId": "1155e9ef-95f0-4a3f-bd6b-46ed2dbb18d2"
      },
      "execution_count": null,
      "outputs": [
        {
          "output_type": "stream",
          "name": "stderr",
          "text": [
            "/usr/local/lib/python3.11/dist-packages/keras/src/layers/rnn/rnn.py:200: UserWarning: Do not pass an `input_shape`/`input_dim` argument to a layer. When using Sequential models, prefer using an `Input(shape)` object as the first layer in the model instead.\n",
            "  super().__init__(**kwargs)\n"
          ]
        },
        {
          "output_type": "display_data",
          "data": {
            "text/plain": [
              "\u001b[1mModel: \"sequential\"\u001b[0m\n"
            ],
            "text/html": [
              "<pre style=\"white-space:pre;overflow-x:auto;line-height:normal;font-family:Menlo,'DejaVu Sans Mono',consolas,'Courier New',monospace\"><span style=\"font-weight: bold\">Model: \"sequential\"</span>\n",
              "</pre>\n"
            ]
          },
          "metadata": {}
        },
        {
          "output_type": "display_data",
          "data": {
            "text/plain": [
              "┏━━━━━━━━━━━━━━━━━━━━━━━━━━━━━━━━━┳━━━━━━━━━━━━━━━━━━━━━━━━┳━━━━━━━━━━━━━━━┓\n",
              "┃\u001b[1m \u001b[0m\u001b[1mLayer (type)                   \u001b[0m\u001b[1m \u001b[0m┃\u001b[1m \u001b[0m\u001b[1mOutput Shape          \u001b[0m\u001b[1m \u001b[0m┃\u001b[1m \u001b[0m\u001b[1m      Param #\u001b[0m\u001b[1m \u001b[0m┃\n",
              "┡━━━━━━━━━━━━━━━━━━━━━━━━━━━━━━━━━╇━━━━━━━━━━━━━━━━━━━━━━━━╇━━━━━━━━━━━━━━━┩\n",
              "│ lstm (\u001b[38;5;33mLSTM\u001b[0m)                     │ (\u001b[38;5;45mNone\u001b[0m, \u001b[38;5;34m64\u001b[0m)             │        \u001b[38;5;34m18,944\u001b[0m │\n",
              "├─────────────────────────────────┼────────────────────────┼───────────────┤\n",
              "│ dropout (\u001b[38;5;33mDropout\u001b[0m)               │ (\u001b[38;5;45mNone\u001b[0m, \u001b[38;5;34m64\u001b[0m)             │             \u001b[38;5;34m0\u001b[0m │\n",
              "├─────────────────────────────────┼────────────────────────┼───────────────┤\n",
              "│ dense (\u001b[38;5;33mDense\u001b[0m)                   │ (\u001b[38;5;45mNone\u001b[0m, \u001b[38;5;34m32\u001b[0m)             │         \u001b[38;5;34m2,080\u001b[0m │\n",
              "├─────────────────────────────────┼────────────────────────┼───────────────┤\n",
              "│ dropout_1 (\u001b[38;5;33mDropout\u001b[0m)             │ (\u001b[38;5;45mNone\u001b[0m, \u001b[38;5;34m32\u001b[0m)             │             \u001b[38;5;34m0\u001b[0m │\n",
              "├─────────────────────────────────┼────────────────────────┼───────────────┤\n",
              "│ dense_1 (\u001b[38;5;33mDense\u001b[0m)                 │ (\u001b[38;5;45mNone\u001b[0m, \u001b[38;5;34m1\u001b[0m)              │            \u001b[38;5;34m33\u001b[0m │\n",
              "└─────────────────────────────────┴────────────────────────┴───────────────┘\n"
            ],
            "text/html": [
              "<pre style=\"white-space:pre;overflow-x:auto;line-height:normal;font-family:Menlo,'DejaVu Sans Mono',consolas,'Courier New',monospace\">┏━━━━━━━━━━━━━━━━━━━━━━━━━━━━━━━━━┳━━━━━━━━━━━━━━━━━━━━━━━━┳━━━━━━━━━━━━━━━┓\n",
              "┃<span style=\"font-weight: bold\"> Layer (type)                    </span>┃<span style=\"font-weight: bold\"> Output Shape           </span>┃<span style=\"font-weight: bold\">       Param # </span>┃\n",
              "┡━━━━━━━━━━━━━━━━━━━━━━━━━━━━━━━━━╇━━━━━━━━━━━━━━━━━━━━━━━━╇━━━━━━━━━━━━━━━┩\n",
              "│ lstm (<span style=\"color: #0087ff; text-decoration-color: #0087ff\">LSTM</span>)                     │ (<span style=\"color: #00d7ff; text-decoration-color: #00d7ff\">None</span>, <span style=\"color: #00af00; text-decoration-color: #00af00\">64</span>)             │        <span style=\"color: #00af00; text-decoration-color: #00af00\">18,944</span> │\n",
              "├─────────────────────────────────┼────────────────────────┼───────────────┤\n",
              "│ dropout (<span style=\"color: #0087ff; text-decoration-color: #0087ff\">Dropout</span>)               │ (<span style=\"color: #00d7ff; text-decoration-color: #00d7ff\">None</span>, <span style=\"color: #00af00; text-decoration-color: #00af00\">64</span>)             │             <span style=\"color: #00af00; text-decoration-color: #00af00\">0</span> │\n",
              "├─────────────────────────────────┼────────────────────────┼───────────────┤\n",
              "│ dense (<span style=\"color: #0087ff; text-decoration-color: #0087ff\">Dense</span>)                   │ (<span style=\"color: #00d7ff; text-decoration-color: #00d7ff\">None</span>, <span style=\"color: #00af00; text-decoration-color: #00af00\">32</span>)             │         <span style=\"color: #00af00; text-decoration-color: #00af00\">2,080</span> │\n",
              "├─────────────────────────────────┼────────────────────────┼───────────────┤\n",
              "│ dropout_1 (<span style=\"color: #0087ff; text-decoration-color: #0087ff\">Dropout</span>)             │ (<span style=\"color: #00d7ff; text-decoration-color: #00d7ff\">None</span>, <span style=\"color: #00af00; text-decoration-color: #00af00\">32</span>)             │             <span style=\"color: #00af00; text-decoration-color: #00af00\">0</span> │\n",
              "├─────────────────────────────────┼────────────────────────┼───────────────┤\n",
              "│ dense_1 (<span style=\"color: #0087ff; text-decoration-color: #0087ff\">Dense</span>)                 │ (<span style=\"color: #00d7ff; text-decoration-color: #00d7ff\">None</span>, <span style=\"color: #00af00; text-decoration-color: #00af00\">1</span>)              │            <span style=\"color: #00af00; text-decoration-color: #00af00\">33</span> │\n",
              "└─────────────────────────────────┴────────────────────────┴───────────────┘\n",
              "</pre>\n"
            ]
          },
          "metadata": {}
        },
        {
          "output_type": "display_data",
          "data": {
            "text/plain": [
              "\u001b[1m Total params: \u001b[0m\u001b[38;5;34m21,057\u001b[0m (82.25 KB)\n"
            ],
            "text/html": [
              "<pre style=\"white-space:pre;overflow-x:auto;line-height:normal;font-family:Menlo,'DejaVu Sans Mono',consolas,'Courier New',monospace\"><span style=\"font-weight: bold\"> Total params: </span><span style=\"color: #00af00; text-decoration-color: #00af00\">21,057</span> (82.25 KB)\n",
              "</pre>\n"
            ]
          },
          "metadata": {}
        },
        {
          "output_type": "display_data",
          "data": {
            "text/plain": [
              "\u001b[1m Trainable params: \u001b[0m\u001b[38;5;34m21,057\u001b[0m (82.25 KB)\n"
            ],
            "text/html": [
              "<pre style=\"white-space:pre;overflow-x:auto;line-height:normal;font-family:Menlo,'DejaVu Sans Mono',consolas,'Courier New',monospace\"><span style=\"font-weight: bold\"> Trainable params: </span><span style=\"color: #00af00; text-decoration-color: #00af00\">21,057</span> (82.25 KB)\n",
              "</pre>\n"
            ]
          },
          "metadata": {}
        },
        {
          "output_type": "display_data",
          "data": {
            "text/plain": [
              "\u001b[1m Non-trainable params: \u001b[0m\u001b[38;5;34m0\u001b[0m (0.00 B)\n"
            ],
            "text/html": [
              "<pre style=\"white-space:pre;overflow-x:auto;line-height:normal;font-family:Menlo,'DejaVu Sans Mono',consolas,'Courier New',monospace\"><span style=\"font-weight: bold\"> Non-trainable params: </span><span style=\"color: #00af00; text-decoration-color: #00af00\">0</span> (0.00 B)\n",
              "</pre>\n"
            ]
          },
          "metadata": {}
        }
      ]
    },
    {
      "cell_type": "code",
      "source": [
        "#TRAIN THE MODEL:-\n",
        "from sklearn.utils.class_weight import compute_class_weight\n",
        "\n",
        "# Compute class weights based on training labels\n",
        "class_weights = compute_class_weight(class_weight='balanced',\n",
        "                                     classes=np.unique(y_train),\n",
        "                                     y=y_train)\n",
        "class_weights_dict = {i: class_weights[i] for i in range(len(class_weights))}\n",
        "\n",
        "print(\"✅ Class Weights:\", class_weights_dict)\n",
        "\n",
        "\n",
        "# Train with class weights\n",
        "history = model.fit(X_train, y_train,\n",
        "                    epochs=10,\n",
        "                    batch_size=32,\n",
        "                    validation_data=(X_test, y_test),\n",
        "                    class_weight=class_weights_dict,\n",
        "                    verbose=1)\n"
      ],
      "metadata": {
        "colab": {
          "base_uri": "https://localhost:8080/"
        },
        "id": "SzwfAKlHXrSt",
        "outputId": "ef3958f4-adf1-4623-dadc-8d6516560898"
      },
      "execution_count": null,
      "outputs": [
        {
          "output_type": "stream",
          "name": "stdout",
          "text": [
            "✅ Class Weights: {0: np.float64(8.666666666666666), 1: np.float64(0.5306122448979592)}\n",
            "Epoch 1/10\n",
            "\u001b[1m26/26\u001b[0m \u001b[32m━━━━━━━━━━━━━━━━━━━━\u001b[0m\u001b[37m\u001b[0m \u001b[1m1s\u001b[0m 12ms/step - accuracy: 0.9121 - loss: 0.8717 - val_accuracy: 0.1675 - val_loss: 0.7752\n",
            "Epoch 2/10\n",
            "\u001b[1m26/26\u001b[0m \u001b[32m━━━━━━━━━━━━━━━━━━━━\u001b[0m\u001b[37m\u001b[0m \u001b[1m1s\u001b[0m 10ms/step - accuracy: 0.5206 - loss: 0.6531 - val_accuracy: 0.1627 - val_loss: 0.7424\n",
            "Epoch 3/10\n",
            "\u001b[1m26/26\u001b[0m \u001b[32m━━━━━━━━━━━━━━━━━━━━\u001b[0m\u001b[37m\u001b[0m \u001b[1m0s\u001b[0m 11ms/step - accuracy: 0.5721 - loss: 0.6810 - val_accuracy: 0.2057 - val_loss: 0.7462\n",
            "Epoch 4/10\n",
            "\u001b[1m26/26\u001b[0m \u001b[32m━━━━━━━━━━━━━━━━━━━━\u001b[0m\u001b[37m\u001b[0m \u001b[1m0s\u001b[0m 9ms/step - accuracy: 0.6067 - loss: 0.5897 - val_accuracy: 0.4163 - val_loss: 0.6933\n",
            "Epoch 5/10\n",
            "\u001b[1m26/26\u001b[0m \u001b[32m━━━━━━━━━━━━━━━━━━━━\u001b[0m\u001b[37m\u001b[0m \u001b[1m0s\u001b[0m 9ms/step - accuracy: 0.6966 - loss: 0.5788 - val_accuracy: 0.3589 - val_loss: 0.7479\n",
            "Epoch 6/10\n",
            "\u001b[1m26/26\u001b[0m \u001b[32m━━━━━━━━━━━━━━━━━━━━\u001b[0m\u001b[37m\u001b[0m \u001b[1m0s\u001b[0m 10ms/step - accuracy: 0.6333 - loss: 0.6146 - val_accuracy: 0.2823 - val_loss: 0.7901\n",
            "Epoch 7/10\n",
            "\u001b[1m26/26\u001b[0m \u001b[32m━━━━━━━━━━━━━━━━━━━━\u001b[0m\u001b[37m\u001b[0m \u001b[1m0s\u001b[0m 12ms/step - accuracy: 0.6597 - loss: 0.5574 - val_accuracy: 0.2632 - val_loss: 0.8215\n",
            "Epoch 8/10\n",
            "\u001b[1m26/26\u001b[0m \u001b[32m━━━━━━━━━━━━━━━━━━━━\u001b[0m\u001b[37m\u001b[0m \u001b[1m0s\u001b[0m 12ms/step - accuracy: 0.5455 - loss: 0.6297 - val_accuracy: 0.9474 - val_loss: 0.3122\n",
            "Epoch 9/10\n",
            "\u001b[1m26/26\u001b[0m \u001b[32m━━━━━━━━━━━━━━━━━━━━\u001b[0m\u001b[37m\u001b[0m \u001b[1m1s\u001b[0m 14ms/step - accuracy: 0.8248 - loss: 0.6904 - val_accuracy: 0.9665 - val_loss: 0.4203\n",
            "Epoch 10/10\n",
            "\u001b[1m26/26\u001b[0m \u001b[32m━━━━━━━━━━━━━━━━━━━━\u001b[0m\u001b[37m\u001b[0m \u001b[1m0s\u001b[0m 13ms/step - accuracy: 0.7082 - loss: 0.5511 - val_accuracy: 0.9569 - val_loss: 0.3640\n"
          ]
        }
      ]
    },
    {
      "cell_type": "code",
      "source": [
        "#EVALUATING AND VISUALISING RESULTS\n",
        "from sklearn.metrics import classification_report, confusion_matrix\n",
        "import seaborn as sns\n",
        "import matplotlib.pyplot as plt\n",
        "\n",
        "# Make predictions\n",
        "y_pred_prob = model.predict(X_test)\n",
        "y_pred = (y_pred_prob > 0.5).astype(int)\n",
        "\n",
        "# Classification report\n",
        "print(\"📊 Classification Report:\")\n",
        "print(classification_report(y_test, y_pred))\n",
        "\n",
        "# Confusion matrix\n",
        "cm = confusion_matrix(y_test, y_pred)\n",
        "plt.figure(figsize=(6, 4))\n",
        "sns.heatmap(cm, annot=True, fmt='d', cmap='Blues', xticklabels=['Normal', 'Attack'], yticklabels=['Normal', 'Attack'])\n",
        "plt.title('Confusion Matrix')\n",
        "plt.xlabel('Predicted')\n",
        "plt.ylabel('True')\n",
        "plt.show()\n"
      ],
      "metadata": {
        "colab": {
          "base_uri": "https://localhost:8080/",
          "height": 601
        },
        "id": "3d2QjbnoYCzU",
        "outputId": "3a3af448-0db9-4878-9dbe-b5c639abf058"
      },
      "execution_count": null,
      "outputs": [
        {
          "output_type": "stream",
          "name": "stdout",
          "text": [
            "\u001b[1m7/7\u001b[0m \u001b[32m━━━━━━━━━━━━━━━━━━━━\u001b[0m\u001b[37m\u001b[0m \u001b[1m0s\u001b[0m 5ms/step \n",
            "📊 Classification Report:\n",
            "              precision    recall  f1-score   support\n",
            "\n",
            "           0       0.71      0.42      0.53        12\n",
            "           1       0.97      0.99      0.98       197\n",
            "\n",
            "    accuracy                           0.96       209\n",
            "   macro avg       0.84      0.70      0.75       209\n",
            "weighted avg       0.95      0.96      0.95       209\n",
            "\n"
          ]
        },
        {
          "output_type": "display_data",
          "data": {
            "text/plain": [
              "<Figure size 600x400 with 2 Axes>"
            ],
            "image/png": "[encoded data removed]"
          },
          "metadata": {}
        }
      ]
    },
    {
      "cell_type": "code",
      "source": [
        "#PLOT TRAINING HISTORY\n",
        "import matplotlib.pyplot as plt\n",
        "\n",
        "plt.plot(history.history['accuracy'], label='train_acc')\n",
        "plt.plot(history.history['val_accuracy'], label='val_acc')\n",
        "plt.title('Accuracy')\n",
        "plt.legend()\n",
        "plt.show()\n",
        "\n",
        "plt.plot(history.history['loss'], label='train_loss')\n",
        "plt.plot(history.history['val_loss'], label='val_loss')\n",
        "plt.title('Loss')\n",
        "plt.legend()\n",
        "plt.show()\n"
      ],
      "metadata": {
        "colab": {
          "base_uri": "https://localhost:8080/",
          "height": 887
        },
        "id": "e7rIFUr9bMey",
        "outputId": "84411859-ec65-4502-f382-f8b84c73cc66"
      },
      "execution_count": null,
      "outputs": [
        {
          "output_type": "display_data",
          "data": {
            "text/plain": [
              "<Figure size 640x480 with 1 Axes>"
            ],
            "image/png": "[encoded data removed]"
          },
          "metadata": {}
        },
        {
          "output_type": "display_data",
          "data": {
            "text/plain": [
              "<Figure size 640x480 with 1 Axes>"
            ],
            "image/png": "[encoded data removed]"
          },
          "metadata": {}
        }
      ]
    },
    {
      "cell_type": "code",
      "source": [
        "#SAVE YOUR MODEL\n",
        "model.save(\"rnn_intrusion_model.h5\")\n"
      ],
      "metadata": {
        "colab": {
          "base_uri": "https://localhost:8080/"
        },
        "id": "Rcd3ec1AdBHF",
        "outputId": "1a3fd96c-096b-434d-870b-1ed7dc661a71"
      },
      "execution_count": null,
      "outputs": [
        {
          "output_type": "stream",
          "name": "stderr",
          "text": [
            "WARNING:absl:You are saving your model as an HDF5 file via `model.save()` or `keras.saving.save_model(model)`. This file format is considered legacy. We recommend using instead the native Keras format, e.g. `model.save('my_model.keras')` or `keras.saving.save_model(model, 'my_model.keras')`. \n"
          ]
        }
      ]
    },
    {
      "cell_type": "code",
      "source": [
        "#✅ Step 1: Extract & Process Features from the .pcap File\n",
        "import pyshark\n",
        "import pandas as pd\n",
        "\n",
        "def extract_features_from_pcap(pcap_path, max_packets=5000):\n",
        "    capture = pyshark.FileCapture(pcap_path, only_summaries=True)\n",
        "    packets = []\n",
        "\n",
        "    for i, pkt in enumerate(capture):\n",
        "        if i >= max_packets:\n",
        "            break\n",
        "        packets.append({\n",
        "            \"Time\": float(pkt.time),\n",
        "            \"Protocol\": pkt.protocol,\n",
        "            \"Length\": int(pkt.length),\n",
        "            \"Info\": pkt.info,\n",
        "            \"Source\": pkt.source if hasattr(pkt, 'source') else '0.0.0.0',\n",
        "            \"Destination\": pkt.destination if hasattr(pkt, 'destination') else '0.0.0.0'\n",
        "        })\n",
        "\n",
        "    df = pd.DataFrame(packets)\n",
        "    return df\n"
      ],
      "metadata": {
        "id": "i4u0bH5Zkm_v"
      },
      "execution_count": null,
      "outputs": []
    },
    {
      "cell_type": "code",
      "source": [
        "#✅ Step 2: Preprocess Just Like Training Data\n",
        "from sklearn.preprocessing import LabelEncoder, StandardScaler\n",
        "import numpy as np\n",
        "\n",
        "def preprocess_df(df, label_encoders=None, scaler=None):\n",
        "    # Fill missing values\n",
        "    df = df.fillna({'Source': 'missing', 'Destination': 'missing', 'Protocol': 'missing', 'Info': 'missing'})\n",
        "    df = df.fillna(0.0)\n",
        "\n",
        "    categorical_cols = ['Source', 'Destination', 'Protocol']\n",
        "    numeric_cols = ['Time', 'Length']\n",
        "\n",
        "    # Encode categorical\n",
        "    if not label_encoders:\n",
        "        label_encoders = {}\n",
        "        for col in categorical_cols:\n",
        "            le = LabelEncoder()\n",
        "            df[col] = le.fit_transform(df[col].astype(str))\n",
        "            label_encoders[col] = le\n",
        "    else:\n",
        "        for col in categorical_cols:\n",
        "            df[col] = label_encoders[col].transform(df[col].astype(str))\n",
        "\n",
        "    # Normalize numeric\n",
        "    if not scaler:\n",
        "        scaler = StandardScaler()\n",
        "        df[numeric_cols] = scaler.fit_transform(df[numeric_cols])\n",
        "    else:\n",
        "        df[numeric_cols] = scaler.transform(df[numeric_cols])\n",
        "\n",
        "    return df, label_encoders, scaler\n"
      ],
      "metadata": {
        "id": "ih6wiA_ll124"
      },
      "execution_count": null,
      "outputs": []
    },
    {
      "cell_type": "code",
      "source": [
        "#✅ Step 3: Segment into Sequences for the RNN\n",
        "def create_sequences(df, sequence_length=50):\n",
        "    sequences = []\n",
        "    for start in range(0, len(df) - sequence_length, sequence_length):\n",
        "        end = start + sequence_length\n",
        "        chunk = df.iloc[start:end].values\n",
        "        sequences.append(chunk)\n",
        "    return np.array(sequences)\n"
      ],
      "metadata": {
        "id": "MFnBFQE8l8yG"
      },
      "execution_count": null,
      "outputs": []
    },
    {
      "cell_type": "code",
      "source": [
        "from scapy.all import rdpcap, IP, TCP, UDP\n",
        "import pandas as pd\n",
        "\n",
        "def fast_extract_features_from_pcap(pcap_path, max_packets=5000):\n",
        "    packets = rdpcap(pcap_path)[:max_packets]\n",
        "    data = []\n",
        "\n",
        "    for pkt in packets:\n",
        "        if IP in pkt:\n",
        "            src = pkt[IP].src\n",
        "            dst = pkt[IP].dst\n",
        "            proto = pkt[IP].proto\n",
        "            length = len(pkt)\n",
        "            time = pkt.time\n",
        "\n",
        "            # Handle TCP/UDP ports\n",
        "            sport = pkt[TCP].sport if TCP in pkt else pkt[UDP].sport if UDP in pkt else 0\n",
        "            dport = pkt[TCP].dport if TCP in pkt else pkt[UDP].dport if UDP in pkt else 0\n",
        "            flags = str(pkt[TCP].flags) if TCP in pkt else \"None\"\n",
        "\n",
        "            data.append({\n",
        "                'Source': src,\n",
        "                'Destination': dst,\n",
        "                'Protocol': str(proto),\n",
        "                'Time': time,\n",
        "                'Length': length,\n",
        "                'SrcPort': sport,\n",
        "                'DstPort': dport,\n",
        "                'Flags': flags\n",
        "            })\n",
        "\n",
        "    return pd.DataFrame(data)\n"
      ],
      "metadata": {
        "id": "OPgk07AMmJ_h"
      },
      "execution_count": null,
      "outputs": []
    },
    {
      "cell_type": "code",
      "source": [
        "# ✅ Step 4: Load the model and predict safely\n",
        "from tensorflow.keras.models import load_model\n",
        "import numpy as np\n",
        "\n",
        "# Load trained RNN model\n",
        "model = load_model('/content/rnn_intrusion_model.h5')\n",
        "\n",
        "# Step 1: Fast feature extraction\n",
        "df_raw = fast_extract_features_from_pcap('/content/drive/MyDrive/traffic/p.pcap', max_packets=2000)\n",
        "\n",
        "# Step 2: Preprocess\n",
        "df_processed, label_encoders, scaler = preprocess_df(df_raw)\n",
        "\n",
        "# ✅ Ensure all columns are numeric\n",
        "df_processed = df_processed.select_dtypes(include=[np.number])\n",
        "\n",
        "# ✅ Drop any rows with NaN or empty values (safety check)\n",
        "df_processed = df_processed.replace('', np.nan)\n",
        "df_processed = df_processed.dropna()\n",
        "\n",
        "# Step 3: Create sequences\n",
        "X_sequences = create_sequences(df_processed)\n",
        "\n",
        "# ✅ Final conversion to float32 for model prediction\n",
        "X_sequences = np.array(X_sequences).astype(np.float32)\n",
        "\n",
        "# Step 4: Predict\n",
        "predictions = model.predict(X_sequences, verbose=1)\n",
        "labels = (predictions > 0.5).astype(int)\n",
        "\n",
        "print(\"🔍 Sample predictions (first 10):\", labels[:10].flatten())\n"
      ],
      "metadata": {
        "colab": {
          "base_uri": "https://localhost:8080/"
        },
        "id": "ZFNnJ_FFmU_k",
        "outputId": "fb5f12e5-3684-449d-d21d-bac0eac85343"
      },
      "execution_count": null,
      "outputs": [
        {
          "output_type": "stream",
          "name": "stderr",
          "text": [
            "WARNING:absl:Compiled the loaded model, but the compiled metrics have yet to be built. `model.compile_metrics` will be empty until you train or evaluate the model.\n"
          ]
        },
        {
          "output_type": "stream",
          "name": "stdout",
          "text": [
            "\u001b[1m2/2\u001b[0m \u001b[32m━━━━━━━━━━━━━━━━━━━━\u001b[0m\u001b[37m\u001b[0m \u001b[1m0s\u001b[0m 193ms/step\n",
            "🔍 Sample predictions (first 10): [0 0 0 0 0 0 0 0 0 0]\n"
          ]
        }
      ]
    },
    {
      "cell_type": "code",
      "source": [
        "#To Extract Hacker Details\n",
        "# Helper function to map sequence indices back to original packet indices\n",
        "def map_sequences_back_to_indices(df, sequence_length=50):\n",
        "    return [range(i, i + sequence_length) for i in range(len(df) - sequence_length + 1)]\n",
        "\n",
        "# 🔄 Step 1: Reload raw packets (original feature-extracted)\n",
        "df_raw = fast_extract_features_from_pcap('/content/drive/MyDrive/traffic/p.pcap', max_packets=2000)\n",
        "\n",
        "# 🔗 Step 2: Re-map sequence predictions to original packets\n",
        "sequence_indices = map_sequences_back_to_indices(df_raw, sequence_length=50)\n",
        "\n",
        "# ✅ Step 3: Identify indices of sequences labeled as attacks\n",
        "attack_sequences = [sequence_indices[i] for i, label in enumerate(labels) if label == 1]\n",
        "\n",
        "# 📍 Flatten & deduplicate indices of packets involved in attack-labeled sequences\n",
        "attack_packet_indices = sorted(set(i for seq in attack_sequences for i in seq))\n",
        "\n",
        "# 🧹 Step 4: Extract suspected hacker packet info\n",
        "df_hacker_packets = df_raw.iloc[attack_packet_indices]\n",
        "\n",
        "# 🛡️ Step 5: Display key details of suspected attack packets\n",
        "print(\"🛡️ Potential Hacker Packets Found:\", len(df_hacker_packets))\n",
        "df_hacker_packets[['Source', 'Destination', 'SrcPort', 'DstPort', 'Protocol', 'Length', 'Flags']].head(10)\n"
      ],
      "metadata": {
        "colab": {
          "base_uri": "https://localhost:8080/",
          "height": 380
        },
        "id": "7sJxpSMnsG1y",
        "outputId": "88cc5e39-4a7c-486f-9d89-1f8ca1bb7ccf"
      },
      "execution_count": null,
      "outputs": [
        {
          "output_type": "stream",
          "name": "stdout",
          "text": [
            "🛡️ Potential Hacker Packets Found: 56\n"
          ]
        },
        {
          "output_type": "execute_result",
          "data": {
            "text/plain": [
              "            Source     Destination  SrcPort  DstPort Protocol  Length Flags\n",
              "17   192.168.100.6   192.168.100.3       80       80        6     296      \n",
              "18   192.168.100.3  192.168.100.55       80     8080        6    1357      \n",
              "19   192.168.100.5  192.168.100.46       80     3456       17    1001  None\n",
              "20  192.168.100.46   192.168.100.5       80       80        6    1436      \n",
              "21   192.168.100.7   192.168.100.3      365      565       17      60  None\n",
              "22  192.168.100.46   192.168.100.5     3456       80       17    1123  None\n",
              "23  192.168.100.55   192.168.100.3     8080       80        6     867      \n",
              "24  192.168.100.46   192.168.100.5       80       80       17     709  None\n",
              "25   192.168.100.3  192.168.100.55       80     8080        6     899      \n",
              "26   192.168.100.5  192.168.100.46       80     3456       17     616  None"
            ],
            "text/html": [
              "\n",
              "  <div id=\"df-d8ba9309-fb4b-45dd-84bb-ae66531203ad\" class=\"colab-df-container\">\n",
              "    <div>\n",
              "<style scoped>\n",
              "    .dataframe tbody tr th:only-of-type {\n",
              "        vertical-align: middle;\n",
              "    }\n",
              "\n",
              "    .dataframe tbody tr th {\n",
              "        vertical-align: top;\n",
              "    }\n",
              "\n",
              "    .dataframe thead th {\n",
              "        text-align: right;\n",
              "    }\n",
              "</style>\n",
              "<table border=\"1\" class=\"dataframe\">\n",
              "  <thead>\n",
              "    <tr style=\"text-align: right;\">\n",
              "      <th></th>\n",
              "      <th>Source</th>\n",
              "      <th>Destination</th>\n",
              "      <th>SrcPort</th>\n",
              "      <th>DstPort</th>\n",
              "      <th>Protocol</th>\n",
              "      <th>Length</th>\n",
              "      <th>Flags</th>\n",
              "    </tr>\n",
              "  </thead>\n",
              "  <tbody>\n",
              "    <tr>\n",
              "      <th>17</th>\n",
              "      <td>192.168.100.6</td>\n",
              "      <td>192.168.100.3</td>\n",
              "      <td>80</td>\n",
              "      <td>80</td>\n",
              "      <td>6</td>\n",
              "      <td>296</td>\n",
              "      <td></td>\n",
              "    </tr>\n",
              "    <tr>\n",
              "      <th>18</th>\n",
              "      <td>192.168.100.3</td>\n",
              "      <td>192.168.100.55</td>\n",
              "      <td>80</td>\n",
              "      <td>8080</td>\n",
              "      <td>6</td>\n",
              "      <td>1357</td>\n",
              "      <td></td>\n",
              "    </tr>\n",
              "    <tr>\n",
              "      <th>19</th>\n",
              "      <td>192.168.100.5</td>\n",
              "      <td>192.168.100.46</td>\n",
              "      <td>80</td>\n",
              "      <td>3456</td>\n",
              "      <td>17</td>\n",
              "      <td>1001</td>\n",
              "      <td>None</td>\n",
              "    </tr>\n",
              "    <tr>\n",
              "      <th>20</th>\n",
              "      <td>192.168.100.46</td>\n",
              "      <td>192.168.100.5</td>\n",
              "      <td>80</td>\n",
              "      <td>80</td>\n",
              "      <td>6</td>\n",
              "      <td>1436</td>\n",
              "      <td></td>\n",
              "    </tr>\n",
              "    <tr>\n",
              "      <th>21</th>\n",
              "      <td>192.168.100.7</td>\n",
              "      <td>192.168.100.3</td>\n",
              "      <td>365</td>\n",
              "      <td>565</td>\n",
              "      <td>17</td>\n",
              "      <td>60</td>\n",
              "      <td>None</td>\n",
              "    </tr>\n",
              "    <tr>\n",
              "      <th>22</th>\n",
              "      <td>192.168.100.46</td>\n",
              "      <td>192.168.100.5</td>\n",
              "      <td>3456</td>\n",
              "      <td>80</td>\n",
              "      <td>17</td>\n",
              "      <td>1123</td>\n",
              "      <td>None</td>\n",
              "    </tr>\n",
              "    <tr>\n",
              "      <th>23</th>\n",
              "      <td>192.168.100.55</td>\n",
              "      <td>192.168.100.3</td>\n",
              "      <td>8080</td>\n",
              "      <td>80</td>\n",
              "      <td>6</td>\n",
              "      <td>867</td>\n",
              "      <td></td>\n",
              "    </tr>\n",
              "    <tr>\n",
              "      <th>24</th>\n",
              "      <td>192.168.100.46</td>\n",
              "      <td>192.168.100.5</td>\n",
              "      <td>80</td>\n",
              "      <td>80</td>\n",
              "      <td>17</td>\n",
              "      <td>709</td>\n",
              "      <td>None</td>\n",
              "    </tr>\n",
              "    <tr>\n",
              "      <th>25</th>\n",
              "      <td>192.168.100.3</td>\n",
              "      <td>192.168.100.55</td>\n",
              "      <td>80</td>\n",
              "      <td>8080</td>\n",
              "      <td>6</td>\n",
              "      <td>899</td>\n",
              "      <td></td>\n",
              "    </tr>\n",
              "    <tr>\n",
              "      <th>26</th>\n",
              "      <td>192.168.100.5</td>\n",
              "      <td>192.168.100.46</td>\n",
              "      <td>80</td>\n",
              "      <td>3456</td>\n",
              "      <td>17</td>\n",
              "      <td>616</td>\n",
              "      <td>None</td>\n",
              "    </tr>\n",
              "  </tbody>\n",
              "</table>\n",
              "</div>\n",
              "    <div class=\"colab-df-buttons\">\n",
              "\n",
              "  <div class=\"colab-df-container\">\n",
              "    <button class=\"colab-df-convert\" onclick=\"convertToInteractive('df-d8ba9309-fb4b-45dd-84bb-ae66531203ad')\"\n",
              "            title=\"Convert this dataframe to an interactive table.\"\n",
              "            style=\"display:none;\">\n",
              "\n",
              "  <svg xmlns=\"http://www.w3.org/2000/svg\" height=\"24px\" viewBox=\"0 -960 960 960\">\n",
              "    <path d=\"M120-120v-720h720v720H120Zm60-500h600v-160H180v160Zm220 220h160v-160H400v160Zm0 220h160v-160H400v160ZM180-400h160v-160H180v160Zm440 0h160v-160H620v160ZM180-180h160v-160H180v160Zm440 0h160v-160H620v160Z\"/>\n",
              "  </svg>\n",
              "    </button>\n",
              "\n",
              "  <style>\n",
              "    .colab-df-container {\n",
              "      display:flex;\n",
              "      gap: 12px;\n",
              "    }\n",
              "\n",
              "    .colab-df-convert {\n",
              "      background-color: #E8F0FE;\n",
              "      border: none;\n",
              "      border-radius: 50%;\n",
              "      cursor: pointer;\n",
              "      display: none;\n",
              "      fill: #1967D2;\n",
              "      height: 32px;\n",
              "      padding: 0 0 0 0;\n",
              "      width: 32px;\n",
              "    }\n",
              "\n",
              "    .colab-df-convert:hover {\n",
              "      background-color: #E2EBFA;\n",
              "      box-shadow: 0px 1px 2px rgba(60, 64, 67, 0.3), 0px 1px 3px 1px rgba(60, 64, 67, 0.15);\n",
              "      fill: #174EA6;\n",
              "    }\n",
              "\n",
              "    .colab-df-buttons div {\n",
              "      margin-bottom: 4px;\n",
              "    }\n",
              "\n",
              "    [theme=dark] .colab-df-convert {\n",
              "      background-color: #3B4455;\n",
              "      fill: #D2E3FC;\n",
              "    }\n",
              "\n",
              "    [theme=dark] .colab-df-convert:hover {\n",
              "      background-color: #434B5C;\n",
              "      box-shadow: 0px 1px 3px 1px rgba(0, 0, 0, 0.15);\n",
              "      filter: drop-shadow(0px 1px 2px rgba(0, 0, 0, 0.3));\n",
              "      fill: #FFFFFF;\n",
              "    }\n",
              "  </style>\n",
              "\n",
              "    <script>\n",
              "      const buttonEl =\n",
              "        document.querySelector('#df-d8ba9309-fb4b-45dd-84bb-ae66531203ad button.colab-df-convert');\n",
              "      buttonEl.style.display =\n",
              "        google.colab.kernel.accessAllowed ? 'block' : 'none';\n",
              "\n",
              "      async function convertToInteractive(key) {\n",
              "        const element = document.querySelector('#df-d8ba9309-fb4b-45dd-84bb-ae66531203ad');\n",
              "        const dataTable =\n",
              "          await google.colab.kernel.invokeFunction('convertToInteractive',\n",
              "                                                    [key], {});\n",
              "        if (!dataTable) return;\n",
              "\n",
              "        const docLinkHtml = 'Like what you see? Visit the ' +\n",
              "          '<a target=\"_blank\" href=https://colab.research.google.com/notebooks/data_table.ipynb>data table notebook</a>'\n",
              "          + ' to learn more about interactive tables.';\n",
              "        element.innerHTML = '';\n",
              "        dataTable['output_type'] = 'display_data';\n",
              "        await google.colab.output.renderOutput(dataTable, element);\n",
              "        const docLink = document.createElement('div');\n",
              "        docLink.innerHTML = docLinkHtml;\n",
              "        element.appendChild(docLink);\n",
              "      }\n",
              "    </script>\n",
              "  </div>\n",
              "\n",
              "\n",
              "<div id=\"df-6a55158d-8ba1-4c71-939c-4e705a6be8fd\">\n",
              "  <button class=\"colab-df-quickchart\" onclick=\"quickchart('df-6a55158d-8ba1-4c71-939c-4e705a6be8fd')\"\n",
              "            title=\"Suggest charts\"\n",
              "            style=\"display:none;\">\n",
              "\n",
              "<svg xmlns=\"http://www.w3.org/2000/svg\" height=\"24px\"viewBox=\"0 0 24 24\"\n",
              "     width=\"24px\">\n",
              "    <g>\n",
              "        <path d=\"M19 3H5c-1.1 0-2 .9-2 2v14c0 1.1.9 2 2 2h14c1.1 0 2-.9 2-2V5c0-1.1-.9-2-2-2zM9 17H7v-7h2v7zm4 0h-2V7h2v10zm4 0h-2v-4h2v4z\"/>\n",
              "    </g>\n",
              "</svg>\n",
              "  </button>\n",
              "\n",
              "<style>\n",
              "  .colab-df-quickchart {\n",
              "      --bg-color: #E8F0FE;\n",
              "      --fill-color: #1967D2;\n",
              "      --hover-bg-color: #E2EBFA;\n",
              "      --hover-fill-color: #174EA6;\n",
              "      --disabled-fill-color: #AAA;\n",
              "      --disabled-bg-color: #DDD;\n",
              "  }\n",
              "\n",
              "  [theme=dark] .colab-df-quickchart {\n",
              "      --bg-color: #3B4455;\n",
              "      --fill-color: #D2E3FC;\n",
              "      --hover-bg-color: #434B5C;\n",
              "      --hover-fill-color: #FFFFFF;\n",
              "      --disabled-bg-color: #3B4455;\n",
              "      --disabled-fill-color: #666;\n",
              "  }\n",
              "\n",
              "  .colab-df-quickchart {\n",
              "    background-color: var(--bg-color);\n",
              "    border: none;\n",
              "    border-radius: 50%;\n",
              "    cursor: pointer;\n",
              "    display: none;\n",
              "    fill: var(--fill-color);\n",
              "    height: 32px;\n",
              "    padding: 0;\n",
              "    width: 32px;\n",
              "  }\n",
              "\n",
              "  .colab-df-quickchart:hover {\n",
              "    background-color: var(--hover-bg-color);\n",
              "    box-shadow: 0 1px 2px rgba(60, 64, 67, 0.3), 0 1px 3px 1px rgba(60, 64, 67, 0.15);\n",
              "    fill: var(--button-hover-fill-color);\n",
              "  }\n",
              "\n",
              "  .colab-df-quickchart-complete:disabled,\n",
              "  .colab-df-quickchart-complete:disabled:hover {\n",
              "    background-color: var(--disabled-bg-color);\n",
              "    fill: var(--disabled-fill-color);\n",
              "    box-shadow: none;\n",
              "  }\n",
              "\n",
              "  .colab-df-spinner {\n",
              "    border: 2px solid var(--fill-color);\n",
              "    border-color: transparent;\n",
              "    border-bottom-color: var(--fill-color);\n",
              "    animation:\n",
              "      spin 1s steps(1) infinite;\n",
              "  }\n",
              "\n",
              "  @keyframes spin {\n",
              "    0% {\n",
              "      border-color: transparent;\n",
              "      border-bottom-color: var(--fill-color);\n",
              "      border-left-color: var(--fill-color);\n",
              "    }\n",
              "    20% {\n",
              "      border-color: transparent;\n",
              "      border-left-color: var(--fill-color);\n",
              "      border-top-color: var(--fill-color);\n",
              "    }\n",
              "    30% {\n",
              "      border-color: transparent;\n",
              "      border-left-color: var(--fill-color);\n",
              "      border-top-color: var(--fill-color);\n",
              "      border-right-color: var(--fill-color);\n",
              "    }\n",
              "    40% {\n",
              "      border-color: transparent;\n",
              "      border-right-color: var(--fill-color);\n",
              "      border-top-color: var(--fill-color);\n",
              "    }\n",
              "    60% {\n",
              "      border-color: transparent;\n",
              "      border-right-color: var(--fill-color);\n",
              "    }\n",
              "    80% {\n",
              "      border-color: transparent;\n",
              "      border-right-color: var(--fill-color);\n",
              "      border-bottom-color: var(--fill-color);\n",
              "    }\n",
              "    90% {\n",
              "      border-color: transparent;\n",
              "      border-bottom-color: var(--fill-color);\n",
              "    }\n",
              "  }\n",
              "</style>\n",
              "\n",
              "  <script>\n",
              "    async function quickchart(key) {\n",
              "      const quickchartButtonEl =\n",
              "        document.querySelector('#' + key + ' button');\n",
              "      quickchartButtonEl.disabled = true;  // To prevent multiple clicks.\n",
              "      quickchartButtonEl.classList.add('colab-df-spinner');\n",
              "      try {\n",
              "        const charts = await google.colab.kernel.invokeFunction(\n",
              "            'suggestCharts', [key], {});\n",
              "      } catch (error) {\n",
              "        console.error('Error during call to suggestCharts:', error);\n",
              "      }\n",
              "      quickchartButtonEl.classList.remove('colab-df-spinner');\n",
              "      quickchartButtonEl.classList.add('colab-df-quickchart-complete');\n",
              "    }\n",
              "    (() => {\n",
              "      let quickchartButtonEl =\n",
              "        document.querySelector('#df-6a55158d-8ba1-4c71-939c-4e705a6be8fd button');\n",
              "      quickchartButtonEl.style.display =\n",
              "        google.colab.kernel.accessAllowed ? 'block' : 'none';\n",
              "    })();\n",
              "  </script>\n",
              "</div>\n",
              "\n",
              "    </div>\n",
              "  </div>\n"
            ],
            "application/vnd.google.colaboratory.intrinsic+json": {
              "type": "dataframe",
              "summary": "{\n  \"name\": \"df_hacker_packets[['Source', 'Destination', 'SrcPort', 'DstPort', 'Protocol', 'Length', 'Flags']]\",\n  \"rows\": 10,\n  \"fields\": [\n    {\n      \"column\": \"Source\",\n      \"properties\": {\n        \"dtype\": \"string\",\n        \"num_unique_values\": 6,\n        \"samples\": [\n          \"192.168.100.6\",\n          \"192.168.100.3\",\n          \"192.168.100.55\"\n        ],\n        \"semantic_type\": \"\",\n        \"description\": \"\"\n      }\n    },\n    {\n      \"column\": \"Destination\",\n      \"properties\": {\n        \"dtype\": \"category\",\n        \"num_unique_values\": 4,\n        \"samples\": [\n          \"192.168.100.55\",\n          \"192.168.100.5\",\n          \"192.168.100.3\"\n        ],\n        \"semantic_type\": \"\",\n        \"description\": \"\"\n      }\n    },\n    {\n      \"column\": \"SrcPort\",\n      \"properties\": {\n        \"dtype\": \"number\",\n        \"std\": 2622,\n        \"min\": 80,\n        \"max\": 8080,\n        \"num_unique_values\": 4,\n        \"samples\": [\n          365,\n          8080,\n          80\n        ],\n        \"semantic_type\": \"\",\n        \"description\": \"\"\n      }\n    },\n    {\n      \"column\": \"DstPort\",\n      \"properties\": {\n        \"dtype\": \"number\",\n        \"std\": 3283,\n        \"min\": 80,\n        \"max\": 8080,\n        \"num_unique_values\": 4,\n        \"samples\": [\n          8080,\n          565,\n          80\n        ],\n        \"semantic_type\": \"\",\n        \"description\": \"\"\n      }\n    },\n    {\n      \"column\": \"Protocol\",\n      \"properties\": {\n        \"dtype\": \"category\",\n        \"num_unique_values\": 2,\n        \"samples\": [\n          \"17\",\n          \"6\"\n        ],\n        \"semantic_type\": \"\",\n        \"description\": \"\"\n      }\n    },\n    {\n      \"column\": \"Length\",\n      \"properties\": {\n        \"dtype\": \"number\",\n        \"std\": 435,\n        \"min\": 60,\n        \"max\": 1436,\n        \"num_unique_values\": 10,\n        \"samples\": [\n          899,\n          1357\n        ],\n        \"semantic_type\": \"\",\n        \"description\": \"\"\n      }\n    },\n    {\n      \"column\": \"Flags\",\n      \"properties\": {\n        \"dtype\": \"category\",\n        \"num_unique_values\": 2,\n        \"samples\": [\n          \"None\",\n          \"\"\n        ],\n        \"semantic_type\": \"\",\n        \"description\": \"\"\n      }\n    }\n  ]\n}"
            }
          },
          "metadata": {},
          "execution_count": 63
        }
      ]
    },
    {
      "cell_type": "code",
      "source": [
        "#1. 🧠 Analyze Top Suspicious IPs\n",
        "# Count frequency of source IPs in attacks\n",
        "top_sources = df_hacker_packets['Source'].value_counts().head(5)\n",
        "print(\"🔝 Top Suspicious Source IPs:\\n\", top_sources)\n"
      ],
      "metadata": {
        "colab": {
          "base_uri": "https://localhost:8080/"
        },
        "id": "EO8GxTxBvGNu",
        "outputId": "1ba8a80e-49fc-4dba-ee13-f26cb5ceb1b7"
      },
      "execution_count": null,
      "outputs": [
        {
          "output_type": "stream",
          "name": "stdout",
          "text": [
            "🔝 Top Suspicious Source IPs:\n",
            " Source\n",
            "192.168.100.46    22\n",
            "192.168.100.5     12\n",
            "192.168.100.3      8\n",
            "192.168.100.55     7\n",
            "192.168.100.7      4\n",
            "Name: count, dtype: int64\n"
          ]
        }
      ]
    },
    {
      "cell_type": "code",
      "source": [
        "#2. 💾 Optional: Save the Hacker Logs\n",
        "df_hacker_packets.to_csv('/content/drive/MyDrive/hacker_logs.csv', index=False)\n",
        "print(\"✅ Hacker details saved to hacker_logs.csv\")\n"
      ],
      "metadata": {
        "colab": {
          "base_uri": "https://localhost:8080/"
        },
        "id": "U64y1Le-udO_",
        "outputId": "220fd535-3963-4f58-e1e9-9f7c3de62e06"
      },
      "execution_count": null,
      "outputs": [
        {
          "output_type": "stream",
          "name": "stdout",
          "text": [
            "✅ Hacker details saved to hacker_logs.csv\n"
          ]
        }
      ]
    },
    {
      "cell_type": "code",
      "source": [],
      "metadata": {
        "id": "wHmx5sHzwfan"
      },
      "execution_count": null,
      "outputs": []
    }
  ]
}